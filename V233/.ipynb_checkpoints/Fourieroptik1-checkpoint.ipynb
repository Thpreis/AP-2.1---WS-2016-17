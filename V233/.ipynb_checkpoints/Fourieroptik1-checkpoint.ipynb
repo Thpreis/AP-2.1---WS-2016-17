{
 "cells": [
  {
   "cell_type": "markdown",
   "metadata": {},
   "source": [
    "#Fourieroptik\n",
    "#Berechnung des Spaltbildes nach Beschneidung des Beugungsbildes\n",
    "#### Jens Wagner 06/2015\n",
    "<a  href=\"http://www.physi.uni-heidelberg.de/Einrichtungen/AP/python/Fourieroptik1.ipynb\"<font> Download this notebook</font></a>"
   ]
  },
  {
   "cell_type": "markdown",
   "metadata": {},
   "source": [
    "Bei der Auswertung des Versuchs Fourieroptik soll untersucht werden, welche Auswirkungen die \n",
    "Manipulation des Beugungsbildes in der Fourierebene auf die Struktur des \n",
    "Bildes hat. Mit Hilfe eines Analysierspaltes werden Bereiche des \n",
    "Beugungsbildes gezielt ausgeblendet, so dass nicht alle Beugungsordnungen \n",
    "zur optischen Abbildung beitragen.\n",
    "<img border=\"0\" src=\"http://www.physi.uni-heidelberg.de/Einrichtungen/AP/python/data/233aufbau.png\" width=\"316\" height=\"222\">\n",
    "\n",
    "Um das resultierende Bild des Spaltes zu erhalten muss folgendes Integral berechnet werden:\n",
    "<img border=\"0\" src=\"http://www.physi.uni-heidelberg.de/Einrichtungen/AP/python/data/integral1.png\" width=\"402\" height=\"66\">\n",
    "mit\n",
    "<img border=\"0\" src=\"http://www.physi.uni-heidelberg.de/Einrichtungen/AP/python/data/grenze1.png\" width=\"254\" height=\"29\">\n",
    "wobei d die Spaltbreite und n den Integrationsbereich bez&uuml;glich der Nullstellen angibt. W&auml;hlen Sie z.B. n=1, so erfolgt die Integration nur bis zu den ersten Nullstellen, d.h. nur &uuml;ber das Hauptmaximum. Bei n=2 erfolgt die Integration &uuml;ber das Hauptmaximum und &uuml;ber die ersten Nebenmaxima. "
   ]
  },
  {
   "cell_type": "code",
   "execution_count": 1,
   "metadata": {
    "collapsed": true
   },
   "outputs": [],
   "source": [
    "import numpy as np\n",
    "from scipy.integrate import quad\n",
    "from matplotlib import pyplot as plt\n",
    "%matplotlib inline "
   ]
  },
  {
   "cell_type": "code",
   "execution_count": 2,
   "metadata": {
    "collapsed": false
   },
   "outputs": [],
   "source": [
    "#Integrand\n",
    "def funktion(k):\n",
    "    return d/np.pi*np.sin(k*d/2)/(k*d/2)*np.cos(y*k)"
   ]
  },
  {
   "cell_type": "code",
   "execution_count": 3,
   "metadata": {
    "collapsed": true
   },
   "outputs": [],
   "source": [
    "d=1  #Spaltbreite auf 1 setzen"
   ]
  },
  {
   "cell_type": "code",
   "execution_count": 4,
   "metadata": {
    "collapsed": true
   },
   "outputs": [],
   "source": [
    "n=5  #Integrationsbereich Bsp.: n=5-> Integration bis zur 5. Nullstelle"
   ]
  },
  {
   "cell_type": "code",
   "execution_count": 5,
   "metadata": {
    "collapsed": true
   },
   "outputs": [],
   "source": [
    "Y=np.arange(-100,101)/100*d  #y-Werte"
   ]
  },
  {
   "cell_type": "code",
   "execution_count": 6,
   "metadata": {
    "collapsed": false
   },
   "outputs": [],
   "source": [
    "#Berechnung des resultierenden Objektbilds\n",
    "\n",
    "f_modifiziert=[]\n",
    "for i in range(len(Y)):\n",
    "    y=Y[i]\n",
    "    result, error = quad(funktion, 0, 2*np.pi*n/d)  #quad() berechnet die numerische Integration\n",
    "    f_modifiziert.append(result**2)\n",
    "    \n",
    "f_modifiziert=f_modifiziert/np.max(f_modifiziert)  #Kurve auf 1 normieren (Kosmetik)"
   ]
  },
  {
   "cell_type": "code",
   "execution_count": 8,
   "metadata": {
    "collapsed": false,
    "scrolled": true
   },
   "outputs": [
    {
     "data": {
      "image/png": "[encoded data removed]",
      "text/plain": [
       "<matplotlib.figure.Figure at 0x7398d68>"
      ]
     },
     "metadata": {},
     "output_type": "display_data"
    }
   ],
   "source": [
    "plt.plot(Y,f_modifiziert)\n",
    "plt.xlabel('y / d')\n",
    "plt.ylabel('Intensitaet / b.E.')\n",
    "plt.title('modifiziertes Objektbild')\n",
    "plt.show()"
   ]
  }
 ],
 "metadata": {
  "anaconda-cloud": {},
  "kernelspec": {
   "display_name": "Python [default]",
   "language": "python",
   "name": "python3"
  },
  "language_info": {
   "codemirror_mode": {
    "name": "ipython",
    "version": 3
   },
   "file_extension": ".py",
   "mimetype": "text/x-python",
   "name": "python",
   "nbconvert_exporter": "python",
   "pygments_lexer": "ipython3",
   "version": "3.5.2"
  }
 },
 "nbformat": 4,
 "nbformat_minor": 0
}
